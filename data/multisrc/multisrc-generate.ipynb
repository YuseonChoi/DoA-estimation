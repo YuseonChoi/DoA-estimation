{
 "cells": [
  {
   "cell_type": "code",
   "execution_count": 31,
   "metadata": {},
   "outputs": [],
   "source": [
    "import os\n",
    "import torch\n",
    "import torchaudio\n",
    "import torchaudio.functional as F\n",
    "\n",
    "CURRENT_DIRECTORY = os.getcwd()\n",
    "SAVE_DIRECTORY = os.path.join(CURRENT_DIRECTORY, 'multisrc/')\n",
    "os.makedirs(SAVE_DIRECTORY, exist_ok = True)\n",
    "\n",
    "DATA1_PATH = os.path.join(CURRENT_DIRECTORY, '240625/highF/mono_minmax_no_silence/')\n",
    "DATA2_PATH = os.path.join(CURRENT_DIRECTORY, '240625/lowF/mono_minmax_no_silence/')\n",
    "\n",
    "## load two sources with bottom, top mics\n",
    "sr = 48000\n",
    "sig1_1, _ = torchaudio.load(DATA1_PATH + \"/\" + \"hal_in_pure_24_4ch_48k_1.wav\")\n",
    "sig1_2, _ = torchaudio.load(DATA1_PATH + \"/\" + \"hal_in_pure_24_4ch_48k_2.wav\")\n",
    "sig2_1, _ = torchaudio.load(DATA2_PATH + \"/\" + \"hal_in_pure_24_4ch_48k_1.wav\")\n",
    "sig2_2, _ = torchaudio.load(DATA2_PATH + \"/\" + \"hal_in_pure_24_4ch_48k_2.wav\")\n",
    "\n",
    "# add two sources for each bottom/top mics respectively\n",
    "sig1 = torch.nn.functional.pad(sig1_1,(0, int(3.0*sr)+1)).squeeze() + sig2_1.squeeze()\n",
    "sig2 = torch.nn.functional.pad(sig1_2,(0, int(3.0*sr)+1)).squeeze() + sig2_2.squeeze()\n",
    "# sig1 = torch.nn.functional.pad(sig1_1,(0, int(3.0*sr))).squeeze() + torch.nn.functional.pad(sig2_1,(int(2.0*sr)+1, 0)).squeeze()\n",
    "# sig2 = torch.nn.functional.pad(sig1_2,(0, int(3.0*sr))).squeeze() + torch.nn.functional.pad(sig2_2,(int(2.0*sr)+1, 0)).squeeze()\n",
    "# min_length = min(sig1.size(0), sig2.size(0))\n",
    "# sig1 = sig1[:min_length]\n",
    "# sig2 = sig2[:min_length]\n",
    "torchaudio.save(os.path.join(SAVE_DIRECTORY, \"sig1F.wav\"), sig1.unsqueeze(0), sr)\n",
    "torchaudio.save(os.path.join(SAVE_DIRECTORY, \"sig2F.wav\"), sig2.unsqueeze(0), sr)"
   ]
  }
 ],
 "metadata": {
  "kernelspec": {
   "display_name": "venv",
   "language": "python",
   "name": "python3"
  },
  "language_info": {
   "codemirror_mode": {
    "name": "ipython",
    "version": 3
   },
   "file_extension": ".py",
   "mimetype": "text/x-python",
   "name": "python",
   "nbconvert_exporter": "python",
   "pygments_lexer": "ipython3",
   "version": "3.10.13"
  }
 },
 "nbformat": 4,
 "nbformat_minor": 2
}
