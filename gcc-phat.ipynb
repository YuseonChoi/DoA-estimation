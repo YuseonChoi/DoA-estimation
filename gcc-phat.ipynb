{
 "cells": [
  {
   "cell_type": "markdown",
   "metadata": {},
   "source": [
    "\n",
    "**GCC-PHAT (generalized cross correlation Phase Transform) baisc principle**\n",
    "\n",
    "1. Conduct fourier transfrom on the signals respectively received by two microphones.\n",
    "\n",
    "2. Calculate the cross spectral density of two signals in the frequency domain.\n",
    "\n",
    "3. Apply phase transform to normalize and retain only the phase information.\n",
    "\n",
    "4. Obtain cross-correlation by performing inverse fourier transform.\n",
    "\n",
    "5. Find the sample delay where cross correlation is maximized.\n",
    "\n",
    "6. Calculate the DoA using the TDoA, microphone distance, sound speed, and other microphone array information.\n"
   ]
  },
  {
   "cell_type": "code",
   "execution_count": 11,
   "metadata": {},
   "outputs": [
    {
     "name": "stdout",
     "output_type": "stream",
     "text": [
      "TDoA: -0.0002\n",
      "DoA: 1.9340\n",
      "Azimuth: 20.8106\n"
     ]
    }
   ],
   "source": [
    "import os\n",
    "import numpy as np\n",
    "import librosa\n",
    "\n",
    "\n",
    "folder = \"data/103.5\"\n",
    "audios = os.listdir(folder)\n",
    "sr = 48000\n",
    "\n",
    "# bottom, top\n",
    "sig1, _ = librosa.load(folder + \"/\" + \"hal_in_pure_24_4ch_48k_1.wav\", sr=None)\n",
    "sig2, _ = librosa.load(folder + \"/\" + \"hal_in_pure_24_4ch_48k_2.wav\", sr=None)\n",
    "\n",
    "\n",
    "## GCC-PHAT ##\n",
    "def gcc_phat(sig1, sig2, sr):\n",
    "    n = sig1.size + sig2.size\n",
    "    \n",
    "    SIG1 = np.fft.rfft(sig1, n=n)\n",
    "    SIG2 = np.fft.rfft(sig2, n=n)\n",
    "    \n",
    "    R = SIG1 * np.conj(SIG2)\n",
    "    cc = np.fft.irfft(R / np.abs(R))\n",
    "    \n",
    "    # cross-correlation = sample delay\n",
    "    # TDoA = sample delay / sampling rate\n",
    "\n",
    "    # max_shift -> How the signal is delayed relative to another\n",
    "    # cc -> consider all possible delays in the range -max shift ~ +max_shift\n",
    "    \n",
    "    # Due to FFT, the cross-correlation function has circular properties.\n",
    "    # The process of converting linear convolution result is necessary.\n",
    "    # So, the result of the cross-correlation function is shifted and converted to center-based form.\n",
    "    \n",
    "    sample_delay = 0\n",
    "    max_shift = n // 2\n",
    "    cc = np.concatenate((cc[-max_shift:], cc[:max_shift]))\n",
    "    sample_delay = np.argmax(cc) - max_shift\n",
    "    tdoa = sample_delay / float(sr)\n",
    "\n",
    "    return tdoa\n",
    "\n",
    "# tdoa = cos(doa) * distance / sound_speed\n",
    "tdoa = gcc_phat(sig1, sig2, sr)\n",
    "distance = 0.161\n",
    "sound_speed = 343.2\n",
    "doa = np.arccos(tdoa * sound_speed / distance)\n",
    "print(f\"TDoA: {tdoa:.4f}\")\n",
    "print(f\"DoA: {doa:.4f}\")\n",
    "print(f\"Azimuth: {np.degrees(doa)-90:.4f}\")"
   ]
  },
  {
   "cell_type": "code",
   "execution_count": null,
   "metadata": {},
   "outputs": [],
   "source": []
  }
 ],
 "metadata": {
  "kernelspec": {
   "display_name": "venv",
   "language": "python",
   "name": "python3"
  },
  "language_info": {
   "codemirror_mode": {
    "name": "ipython",
    "version": 3
   },
   "file_extension": ".py",
   "mimetype": "text/x-python",
   "name": "python",
   "nbconvert_exporter": "python",
   "pygments_lexer": "ipython3",
   "version": "3.10.13"
  }
 },
 "nbformat": 4,
 "nbformat_minor": 2
}
