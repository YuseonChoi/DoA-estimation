{
 "cells": [
  {
   "cell_type": "markdown",
   "metadata": {},
   "source": [
    "\n",
    "**GCC-PHAT (generalized cross correlation Phase Transform) 기본 원리**\n",
    "\n",
    "1. 투 채널을 가정했을 때, 두 개의 마이크에서 받은 신호들을 각각 푸리에 변환\n",
    "2. 주파수 도메인 상에서, 두 신호의 cross power spectrum을 구함\n",
    "3. phase transform을 적용해 정규화하여 phase 정보만 남김\n",
    "4. inverse fourier transform해서 cross correlation을 얻음\n",
    "5. cross correlation이 최댓값을 갖는 delay를 찾음\n",
    "6. TDoA를 아는 상태에서 마이크 간 거리, 소리의 속도 등 마이크 어레이 정보를 통해 DoA를 계산함\n"
   ]
  },
  {
   "cell_type": "code",
   "execution_count": 152,
   "metadata": {},
   "outputs": [],
   "source": [
    "import os\n",
    "import numpy as np\n",
    "import librosa"
   ]
  },
  {
   "cell_type": "markdown",
   "metadata": {},
   "source": [
    "### 데이터 준비"
   ]
  },
  {
   "cell_type": "code",
   "execution_count": 153,
   "metadata": {},
   "outputs": [
    {
     "name": "stdout",
     "output_type": "stream",
     "text": [
      "['hal_in_pure_24_4ch_48k_1.wav', 'hal_in_pure_24_4ch_48k_2.wav']\n"
     ]
    }
   ],
   "source": [
    "folder = \"data\"\n",
    "audios = os.listdir(folder)\n",
    "# bottom, top\n",
    "audios.sort()\n",
    "sr = 48000\n",
    "\n",
    "sig1, _ = librosa.load(folder + \"/\" + audios[0], sr=None)\n",
    "sig2, _ = librosa.load(folder + \"/\" + audios[1], sr=None)\n",
    "print(audios)"
   ]
  },
  {
   "cell_type": "markdown",
   "metadata": {},
   "source": [
    "### 코드 검증"
   ]
  },
  {
   "cell_type": "code",
   "execution_count": 154,
   "metadata": {},
   "outputs": [
    {
     "name": "stdout",
     "output_type": "stream",
     "text": [
      "Time-domain1: \n",
      " [-1.0519068e-15  2.8072910e-15 -2.4481232e-15 ... -3.1524554e-02\n",
      " -3.1538107e-02 -3.1787485e-02] \n",
      " Shape: (1144320,) \n",
      "\n",
      "Time-domain2: \n",
      " [-3.2241015e-15  1.9232307e-15 -1.3310781e-15 ... -1.2696562e-02\n",
      " -1.2214071e-02 -1.2102935e-02] \n",
      " Shape: (1144320,) \n",
      "\n",
      "Frequency-domain1: \n",
      " [-4.68861425e+01+0.j         -6.55555719e+01+1.95728465j\n",
      " -4.72056293e+01+4.16960668j ... -4.65667375e-02-0.21333879j\n",
      " -1.47556429e-01+0.19701903j  2.62717529e-01+0.j        ] \n",
      " Shape: (1144321,) \n",
      "\n",
      "Frequency-domain2: \n",
      " [4.99012647e+01+0.00000000e+00j 5.64952888e+01+3.93542728e+00j\n",
      " 5.37936012e+01+7.92191056e+00j ... 2.96451238e-03+1.80317502e-02j\n",
      " 1.46118632e-02+8.21871548e-04j 4.97604851e-03+0.00000000e+00j] \n",
      " Shape: (1144321,) \n",
      "\n"
     ]
    }
   ],
   "source": [
    "n = sig1.size + sig2.size\n",
    "print(\"Time-domain1: \\n\", sig1, \"\\n\", \"Shape:\", sig1.shape, \"\\n\")\n",
    "print(\"Time-domain2: \\n\", sig2, \"\\n\", \"Shape:\", sig2.shape, \"\\n\")\n",
    "# fourier transform\n",
    "SIG = np.fft.rfft(sig1, n=n)\n",
    "REFSIG = np.fft.rfft(sig2, n=n)\n",
    "print(\"Frequency-domain1: \\n\", SIG, \"\\n\", \"Shape:\", SIG.shape, \"\\n\")\n",
    "print(\"Frequency-domain2: \\n\", REFSIG, \"\\n\", \"Shape:\", REFSIG.shape, \"\\n\")\n"
   ]
  },
  {
   "cell_type": "code",
   "execution_count": 155,
   "metadata": {},
   "outputs": [
    {
     "name": "stdout",
     "output_type": "stream",
     "text": [
      "Cross Spectral Density: \n",
      " [-2.33967780e+03+0.00000000e+00j -3.69587821e+03+3.68566548e+02j\n",
      " -2.50632955e+03+5.98256932e+02j ... -3.98491948e-03+2.07234286e-04j\n",
      " -1.99415002e-03+3.00008755e-03j  1.30729517e-03+0.00000000e+00j] \n",
      " Shape: (1144321,) \n",
      "\n"
     ]
    }
   ],
   "source": [
    "# cross spectral density\n",
    "R = SIG * np.conj(REFSIG)\n",
    "print(\"Cross Spectral Density: \\n\", R, \"\\n\", \"Shape:\", R.shape, \"\\n\")"
   ]
  },
  {
   "cell_type": "code",
   "execution_count": 156,
   "metadata": {},
   "outputs": [
    {
     "name": "stdout",
     "output_type": "stream",
     "text": [
      "Cross Correlation: \n",
      " [ 0.00444497 -0.08132639  0.02893813 ... -0.02335462  0.05767493\n",
      " -0.01516702] \n",
      " Shape: (2288640,) \n",
      "\n",
      "2288623\n"
     ]
    }
   ],
   "source": [
    "cc = np.fft.irfft(R / np.abs(R)).real\n",
    "print(\"Cross Correlation: \\n\", cc, \"\\n\", \"Shape:\", cc.shape, \"\\n\")\n",
    "delay_index = np.argmax(cc)\n",
    "print(delay_index)"
   ]
  },
  {
   "cell_type": "markdown",
   "metadata": {},
   "source": [
    "### GCC-PHAT 함수 구현"
   ]
  },
  {
   "cell_type": "code",
   "execution_count": 157,
   "metadata": {},
   "outputs": [
    {
     "name": "stdout",
     "output_type": "stream",
     "text": [
      "TDoA: 0.0003333333333333333\n",
      "DoA: 0.7550492498547786\n",
      "Azimuth: 43.2611353411976\n"
     ]
    }
   ],
   "source": [
    "def gcc_phat(sig1, sig2, sr):\n",
    "    n = sig1.size + sig2.size\n",
    "    \n",
    "    SIG1 = np.fft.rfft(sig1, n=n)\n",
    "    SIG2 = np.fft.rfft(sig2, n=n)\n",
    "    \n",
    "    R = SIG1 * np.conj(SIG2)\n",
    "    cc = np.fft.irfft(R / np.abs(R)).real\n",
    "    \n",
    "    # cross-correlation = sample delay\n",
    "    # TDoA = sample delay / sampling rate\n",
    "    delay_index = np.argmax(cc)\n",
    "    if delay_index > n // 2:\n",
    "        sample_delay = (n-1) - delay_index\n",
    "    tdoa = sample_delay / sr\n",
    "\n",
    "    return tdoa\n",
    "\n",
    "# tdoa = cos(doa)* distance / sound_speed\n",
    "tdoa = gcc_phat(sig1, sig2, sr)\n",
    "distance = 0.157\n",
    "sound_speed = 343.0\n",
    "doa = np.arccos(tdoa * sound_speed / distance)\n",
    "print(f\"TDoA: {tdoa}\")\n",
    "print(f\"DoA: {doa}\")\n",
    "print(f\"Azimuth: {np.degrees(doa)}\")"
   ]
  }
 ],
 "metadata": {
  "kernelspec": {
   "display_name": "venv",
   "language": "python",
   "name": "python3"
  },
  "language_info": {
   "codemirror_mode": {
    "name": "ipython",
    "version": 3
   },
   "file_extension": ".py",
   "mimetype": "text/x-python",
   "name": "python",
   "nbconvert_exporter": "python",
   "pygments_lexer": "ipython3",
   "version": "3.8.19"
  }
 },
 "nbformat": 4,
 "nbformat_minor": 2
}
