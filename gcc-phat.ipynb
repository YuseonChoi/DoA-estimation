{
 "cells": [
  {
   "cell_type": "markdown",
   "metadata": {},
   "source": [
    "\n",
    "**GCC-PHAT (generalized cross correlation Phase Transform) 기본 원리**\n",
    "\n",
    "1. 투 채널을 가정했을 때, 두 개의 마이크에서 받은 신호들을 각각 푸리에 변환\n",
    "2. 주파수 도메인 상에서, 두 신호의 cross power spectrum을 구함\n",
    "3. phase transform을 적용해 정규화하여 phase 정보만 남김\n",
    "4. inverse fourier transform해서 cross correlation을 얻음\n",
    "5. cross correlation이 최댓값을 갖는 delay를 찾음\n",
    "6. TDoA를 아는 상태에서 마이크 간 거리, 소리의 속도 등 마이크 어레이 정보를 통해 DoA를 계산함\n"
   ]
  },
  {
   "cell_type": "code",
   "execution_count": 160,
   "metadata": {},
   "outputs": [],
   "source": [
    "import os\n",
    "import numpy as np\n",
    "import librosa"
   ]
  },
  {
   "cell_type": "markdown",
   "metadata": {},
   "source": [
    "### 데이터 준비"
   ]
  },
  {
   "cell_type": "code",
   "execution_count": 161,
   "metadata": {},
   "outputs": [],
   "source": [
    "folder = \"data/150r2_M\"\n",
    "audios = os.listdir(folder)\n",
    "# bottom, top\n",
    "sr = 48000\n",
    "\n",
    "sig1, _ = librosa.load(folder + \"/\" + \"hal_in_pure_24_4ch_48k_1.wav\", sr=None)\n",
    "sig2, _ = librosa.load(folder + \"/\" + \"hal_in_pure_24_4ch_48k_2.wav\", sr=None)"
   ]
  },
  {
   "cell_type": "markdown",
   "metadata": {},
   "source": [
    "### GCC-PHAT 함수 구현"
   ]
  },
  {
   "cell_type": "code",
   "execution_count": 163,
   "metadata": {},
   "outputs": [
    {
     "name": "stdout",
     "output_type": "stream",
     "text": [
      "TDoA: 0.0001\n",
      "DoA: 1.3456\n",
      "Azimuth: -12.9034\n"
     ]
    }
   ],
   "source": [
    "def gcc_phat(sig1, sig2, sr):\n",
    "    n = sig1.size + sig2.size\n",
    "    \n",
    "    SIG1 = np.fft.rfft(sig1, n=n)\n",
    "    SIG2 = np.fft.rfft(sig2, n=n)\n",
    "    \n",
    "    R = SIG1 * np.conj(SIG2)\n",
    "    cc = np.fft.irfft(R / np.abs(R))\n",
    "    \n",
    "    # cross-correlation = sample delay\n",
    "    # TDoA = sample delay / sampling rate\n",
    "\n",
    "    # max_shift -> How the signal is delayed relative to another\n",
    "    # cc -> consider all possible delays in the range -max shift ~ +max_shift\n",
    "    \n",
    "    # Due to FFT, the cross-correlation function has circular properties.\n",
    "    # The process of converting linear convolution result is necessary.\n",
    "    # So, the result of the cross-correlation function is shifted and converted to center-based form.\n",
    "    \n",
    "    sample_delay = 0\n",
    "    max_shift = n // 2\n",
    "    cc = np.concatenate((cc[-max_shift:], cc[:max_shift]))\n",
    "    sample_delay = np.argmax(cc) - max_shift\n",
    "    tdoa = sample_delay / float(sr)\n",
    "\n",
    "    return tdoa\n",
    "\n",
    "# tdoa = cos(doa) * distance / sound_speed\n",
    "tdoa = gcc_phat(sig1, sig2, sr)\n",
    "distance = 0.16\n",
    "sound_speed = 343.0\n",
    "doa = np.arccos(tdoa * sound_speed / distance)\n",
    "print(f\"TDoA: {tdoa:.4f}\")\n",
    "print(f\"DoA: {doa:.4f}\")\n",
    "print(f\"Azimuth: {np.degrees(doa)-90:.4f}\")"
   ]
  }
 ],
 "metadata": {
  "kernelspec": {
   "display_name": "venv",
   "language": "python",
   "name": "python3"
  },
  "language_info": {
   "codemirror_mode": {
    "name": "ipython",
    "version": 3
   },
   "file_extension": ".py",
   "mimetype": "text/x-python",
   "name": "python",
   "nbconvert_exporter": "python",
   "pygments_lexer": "ipython3",
   "version": "3.7.12"
  }
 },
 "nbformat": 4,
 "nbformat_minor": 2
}
