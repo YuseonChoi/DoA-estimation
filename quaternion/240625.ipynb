{
 "cells": [
  {
   "cell_type": "code",
   "execution_count": 1,
   "metadata": {},
   "outputs": [],
   "source": [
    "from math import sqrt, sin, cos, asin, acos, tan, atan2, pi\n",
    "import numpy as np"
   ]
  },
  {
   "cell_type": "code",
   "execution_count": 2,
   "metadata": {},
   "outputs": [],
   "source": [
    "def qn_product(q1, q2):\n",
    "    q1 = np.array(q1)\n",
    "    q2 = np.array(q2)\n",
    "    \n",
    "    q1 = q1 / np.sqrt((q1**2).sum())\n",
    "    q2 = q2 / np.sqrt((q2**2).sum())\n",
    "    \n",
    "    qw1, qx1, qy1, qz1 = q1\n",
    "    qw2, qx2, qy2, qz2 = q2\n",
    "    \n",
    "    qw = qw1*qw2 - qx1*qx2 - qy1*qy2 - qz1*qz2\n",
    "    qx = qw1*qx2 + qx1*qw2 + qy1*qz2 - qz1*qy2\n",
    "    qy = qw1*qy2 - qx1*qz2 + qy1*qw2 + qz1*qx2\n",
    "    qz = qw1*qz2 + qx1*qy2 - qy1*qx2 + qz1*qw2\n",
    "    \n",
    "    q = np.array([qw, qx, qy, qz])\n",
    "    q = q / np.sqrt((q**2).sum())\n",
    "    \n",
    "    return q"
   ]
  },
  {
   "cell_type": "code",
   "execution_count": 3,
   "metadata": {},
   "outputs": [],
   "source": [
    "def inverse_qn(q):\n",
    "    qw, qx, qy, qz = q\n",
    "    \n",
    "    return (qw, -qx, -qy, -qz)"
   ]
  },
  {
   "cell_type": "code",
   "execution_count": 4,
   "metadata": {},
   "outputs": [],
   "source": [
    "def print_rotate_angle(q0, q1):\n",
    "    qr = qn_product(inverse_qn(q0), q1)\n",
    "    qw, qx, qy, qz = qr\n",
    "    rot_angle = acos(qw) * 2\n",
    "    s_r = sin(rot_angle/2)\n",
    "    t_x = acos(qx / s_r)\n",
    "    t_y = acos(qy / s_r)\n",
    "    t_z = acos(qz / s_r)\n",
    "    print(f\"rotation angle: {rot_angle*180/pi:.2f}°\")\n",
    "    print(f\"angle between x axis and rotation axis: {t_x*180/pi:.2f}°\")\n",
    "    print(f\"angle between y axis and rotation axis: {t_y*180/pi:.2f}°\")\n",
    "    print(f\"angle between z axis and rotation axis: {t_z*180/pi:.2f}°\")"
   ]
  },
  {
   "cell_type": "code",
   "execution_count": 5,
   "metadata": {},
   "outputs": [],
   "source": [
    "def calculate_elevation(q0, q1, angle0, angle1):\n",
    "    qr = qn_product(inverse_qn(q0), q1)\n",
    "    qw, qx, qy, qz = qr\n",
    "    \n",
    "    azi0 = 3*pi/2 - angle0 * pi/180\n",
    "    azi1 = 3*pi/2 - angle1 * pi/180\n",
    "    \n",
    "    A = 2*(qx*qy - qw*qz)\n",
    "    B = 2*(qy*qz + qw*qx)\n",
    "    C = (cos(azi1) - (qw**2 - qx**2 + qy**2 - qz**2)*cos(azi0))/abs(sin(azi0))\n",
    "    \n",
    "    if A**2 + B**2 - C**2 < 0:\n",
    "        # print(\"invalid value!\")\n",
    "        return None\n",
    "\n",
    "    cos_phi1 = (A*C - sqrt((A**2 + B**2 - C**2)*(B**2)))/(A**2 + B**2)\n",
    "    cos_phi2 = (A*C + sqrt((A**2 + B**2 - C**2)*(B**2)))/(A**2 + B**2)\n",
    "    # phi1 = acos(cos_phi1)\n",
    "    elev1 = 90 - acos(abs(sin(azi0))*cos_phi1)*180/pi\n",
    "    # phi2 = acos(cos_phi2)\n",
    "    elev2 = 90 - acos(abs(sin(azi0))*cos_phi2)*180/pi\n",
    "\n",
    "    return elev1, elev2"
   ]
  },
  {
   "cell_type": "code",
   "execution_count": 6,
   "metadata": {},
   "outputs": [],
   "source": [
    "def get_final_elevation(q0, q1, q2, angle0, angle1, angle2):\n",
    "    elev1 = calculate_elevation(q0, q1, angle0, angle1)\n",
    "    elev2 = calculate_elevation(q0, q2, angle0, angle2)\n",
    "    \n",
    "    if elev1 is None and elev2 is None:\n",
    "        print(\"cannot measure elevation!\")\n",
    "        return\n",
    "    if elev1 is not None and elev2 is None:\n",
    "        print(f\"estimated elevation1: {elev1[0]:.2f}° or {elev1[1]:.2f}°\")\n",
    "        print(\"estimated elevation2 cannot be calculated\")\n",
    "        return\n",
    "    if elev2 is not None and elev1 is None:\n",
    "        print(f\"estimated elevation2: {elev2[0]:.2f}° or {elev2[1]:.2f}°\")\n",
    "        print(\"estimated elevation1 is cannot be calculated\")\n",
    "        return\n",
    "    \n",
    "    print(f\"estimated elevation1: {elev1[0]:.2f}° or {elev1[1]:.2f}°\")\n",
    "    print(f\"estimated elevation2: {elev2[0]:.2f}° or {elev2[1]:.2f}°\")\n",
    "    \n",
    "    elev1 = np.expand_dims(np.array(elev1), 0)\n",
    "    elev2 = np.expand_dims(np.array(elev2), 1)\n",
    "    \n",
    "    diff = abs(elev1 - elev2)\n",
    "    print(f\"final estimated elevation: {(elev1 + elev2).flatten()[np.argmin(diff)]/2:.2f}°\")"
   ]
  },
  {
   "cell_type": "markdown",
   "metadata": {},
   "source": [
    "## 45"
   ]
  },
  {
   "cell_type": "code",
   "execution_count": 7,
   "metadata": {},
   "outputs": [
    {
     "name": "stdout",
     "output_type": "stream",
     "text": [
      "distance1: 90\n",
      "height_low1: 0.0\n",
      "hieght_high1: 11.0\n",
      "elevation1: 0.00° ~ 6.97°\n",
      "==================================================\n",
      "<<rotate1>>\n",
      "rotation angle: 35.13°\n",
      "angle between x axis and rotation axis: 76.00°\n",
      "angle between y axis and rotation axis: 95.85°\n",
      "angle between z axis and rotation axis: 15.22°\n",
      "==================================================\n",
      "<<rotate2>>\n",
      "rotation angle: 327.84°\n",
      "angle between x axis and rotation axis: 88.78°\n",
      "angle between y axis and rotation axis: 89.16°\n",
      "angle between z axis and rotation axis: 1.48°\n"
     ]
    }
   ],
   "source": [
    "q0 = (0.066751931, -0.690721692, -0.043254738, -0.718731343)\n",
    "q1 = (0.322023556, -0.688363174, 0.105393746, -0.641363694)\n",
    "q2 = (0.139139634, 0.655033811, 0.228849868, 0.706538527)\n",
    "\n",
    "angle10_true = -45\n",
    "angle11_true = -39.7\n",
    "angle12_true = -42.2\n",
    "angle10 = -41.7705\n",
    "angle11 = -26.3657\n",
    "angle12 = -5.0957\n",
    "\n",
    "angle20_true = 45\n",
    "angle21_true = 32.6\n",
    "angle22_true = 31.2\n",
    "angle20 = 53.0708\n",
    "angle21 = -26.3657\n",
    "angle22 = -5.0957\n",
    "\n",
    "phone_height = 93.5\n",
    "distance1 = 90\n",
    "height_low1 = 93.5 - phone_height\n",
    "height_high1 = 104.5 - phone_height\n",
    "\n",
    "print(\"distance1:\", distance1)\n",
    "print(\"height_low1:\", height_low1)\n",
    "print(\"hieght_high1:\", height_high1)\n",
    "print(f\"elevation1: {atan2(height_low1, distance1)*180/pi:.2f}° ~ {atan2(height_high1, distance1)*180/pi:.2f}°\")\n",
    "\n",
    "print(\"=\"*50)\n",
    "print(\"<<rotate1>>\")\n",
    "print_rotate_angle(q0, q1)\n",
    "\n",
    "print(\"=\"*50)\n",
    "print(\"<<rotate2>>\")\n",
    "print_rotate_angle(q0, q2)"
   ]
  },
  {
   "cell_type": "code",
   "execution_count": 8,
   "metadata": {},
   "outputs": [
    {
     "name": "stdout",
     "output_type": "stream",
     "text": [
      "<<angle1>>\n",
      "estimated elevation1: 1.19° or 19.11°\n",
      "estimated elevation2 cannot be calculated\n",
      "==================================================\n",
      "<<angle1 true>>\n",
      "estimated elevation1: -14.42° or 2.70°\n",
      "estimated elevation2: 7.21° or 8.58°\n",
      "final estimated elevation: 4.96°\n",
      "==================================================\n",
      "<<angle2>>\n",
      "cannot measure elevation!\n",
      "==================================================\n",
      "<<angle2 true>>\n",
      "estimated elevation1: -12.63° or 4.54°\n",
      "estimated elevation2: 8.02° or 9.39°\n",
      "final estimated elevation: 6.28°\n"
     ]
    }
   ],
   "source": [
    "print(\"<<angle1>>\")\n",
    "get_final_elevation(q0, q1, q2, angle10, angle11, angle12)\n",
    "\n",
    "print(\"=\"*50)\n",
    "print(\"<<angle1 true>>\")\n",
    "get_final_elevation(q0, q1, q2, angle10_true, angle11_true, angle12_true)\n",
    "\n",
    "print(\"=\"*50)\n",
    "print(\"<<angle2>>\")\n",
    "get_final_elevation(q0, q1, q2, angle20, angle21, angle22)\n",
    "\n",
    "print(\"=\"*50)\n",
    "print(\"<<angle2 true>>\")\n",
    "get_final_elevation(q0, q1, q2, angle20_true, angle21_true, angle22_true)"
   ]
  },
  {
   "cell_type": "markdown",
   "metadata": {},
   "source": [
    "## high low"
   ]
  },
  {
   "cell_type": "code",
   "execution_count": 9,
   "metadata": {},
   "outputs": [
    {
     "name": "stdout",
     "output_type": "stream",
     "text": [
      "distance1: 90\n",
      "height_low1: 29.5\n",
      "hieght_high1: 40.5\n",
      "elevation1: 18.15° ~ 24.23°\n",
      "==================================================\n",
      "distance2: 90\n",
      "height_low2: -4.5\n",
      "hieght_high2: 6.5\n",
      "elevation2: -2.86° ~ 4.13°\n",
      "==================================================\n",
      "<<rotate1>>\n",
      "rotation angle: 339.62°\n",
      "angle between x axis and rotation axis: 88.37°\n",
      "angle between y axis and rotation axis: 90.18°\n",
      "angle between z axis and rotation axis: 1.64°\n",
      "==================================================\n",
      "<<rotate2>>\n",
      "rotation angle: 18.34°\n",
      "angle between x axis and rotation axis: 64.17°\n",
      "angle between y axis and rotation axis: 88.88°\n",
      "angle between z axis and rotation axis: 25.86°\n"
     ]
    }
   ],
   "source": [
    "q0 = (0.117797887, -0.695981868, -0.103176333, -0.700775984)\n",
    "q1 = (0.011455393, 0.666948576, 0.221069604, 0.71145665)\n",
    "q2 = (0.265404316, -0.69151925, -0.050342913, -0.669943537)\n",
    "\n",
    "angle10_true = -46.9\n",
    "angle11_true = -46.5\n",
    "angle12_true = -35.7\n",
    "angle10 = -41.7705\n",
    "angle11 = -49.0227\n",
    "angle12 = -29.2427\n",
    "\n",
    "angle20_true = 41.4\n",
    "angle21_true = 50.1\n",
    "angle22_true = 41.7\n",
    "angle20 = 49.0227\n",
    "angle21 = 45.2804\n",
    "angle22 = 49.0227\n",
    "\n",
    "phone_height = 90\n",
    "\n",
    "distance1 = 90\n",
    "height_low1 = 119.5 - phone_height\n",
    "height_high1 = 130.5 - phone_height\n",
    "\n",
    "distance2 = 90\n",
    "height_low2 = 85.5 - phone_height\n",
    "height_high2 = 96.5 - phone_height\n",
    "\n",
    "print(\"distance1:\", distance1)\n",
    "print(\"height_low1:\", height_low1)\n",
    "print(\"hieght_high1:\", height_high1)\n",
    "print(f\"elevation1: {atan2(height_low1, distance1)*180/pi:.2f}° ~ {atan2(height_high1, distance1)*180/pi:.2f}°\")\n",
    "\n",
    "print(\"=\"*50)\n",
    "print(\"distance2:\", distance2)\n",
    "print(\"height_low2:\", height_low2)\n",
    "print(\"hieght_high2:\", height_high2)\n",
    "print(f\"elevation2: {atan2(height_low2, distance2)*180/pi:.2f}° ~ {atan2(height_high2, distance2)*180/pi:.2f}°\")\n",
    "\n",
    "print(\"=\"*50)\n",
    "print(\"<<rotate1>>\")\n",
    "print_rotate_angle(q0, q1)\n",
    "\n",
    "print(\"=\"*50)\n",
    "print(\"<<rotate2>>\")\n",
    "print_rotate_angle(q0, q2)"
   ]
  },
  {
   "cell_type": "code",
   "execution_count": 10,
   "metadata": {},
   "outputs": [
    {
     "name": "stdout",
     "output_type": "stream",
     "text": [
      "<<angle1>>\n",
      "estimated elevation1: 20.85° or 23.16°\n",
      "estimated elevation2: 8.77° or 42.02°\n",
      "final estimated elevation: 14.81°\n",
      "==================================================\n",
      "<<angle1 true>>\n",
      "estimated elevation1: 5.62° or 7.87°\n",
      "estimated elevation2: 3.17° or 34.81°\n",
      "final estimated elevation: 4.40°\n",
      "==================================================\n",
      "<<angle2>>\n",
      "estimated elevation1: -1.56° or 0.62°\n",
      "estimated elevation2: -9.97° or 23.08°\n",
      "final estimated elevation: -5.76°\n",
      "==================================================\n",
      "<<angle2 true>>\n",
      "estimated elevation1: -26.14° or -23.87°\n",
      "estimated elevation2: -12.57° or 25.59°\n",
      "final estimated elevation: -18.22°\n"
     ]
    }
   ],
   "source": [
    "print(\"<<angle1>>\")\n",
    "get_final_elevation(q0, q1, q2, angle10, angle11, angle12)\n",
    "\n",
    "print(\"=\"*50)\n",
    "print(\"<<angle1 true>>\")\n",
    "get_final_elevation(q0, q1, q2, angle10_true, angle11_true, angle12_true)\n",
    "\n",
    "print(\"=\"*50)\n",
    "print(\"<<angle2>>\")\n",
    "get_final_elevation(q0, q1, q2, angle20, angle21, angle22)\n",
    "\n",
    "print(\"=\"*50)\n",
    "print(\"<<angle2 true>>\")\n",
    "get_final_elevation(q0, q1, q2, angle20_true, angle21_true, angle22_true)"
   ]
  },
  {
   "cell_type": "code",
   "execution_count": null,
   "metadata": {},
   "outputs": [],
   "source": []
  }
 ],
 "metadata": {
  "language_info": {
   "name": "python"
  }
 },
 "nbformat": 4,
 "nbformat_minor": 2
}
